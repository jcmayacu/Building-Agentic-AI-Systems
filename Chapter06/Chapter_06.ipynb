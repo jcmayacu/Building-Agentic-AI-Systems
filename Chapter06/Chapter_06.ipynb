{
 "cells": [
  {
   "cell_type": "markdown",
   "metadata": {},
   "source": [
    "<a target=\"_blank\" href=\"https://colab.research.google.com/github/PacktPublishing/Building-Agentic-AI-Systems/blob/main/Chapter_06.ipynb\">\n",
    "  <img src=\"https://colab.research.google.com/assets/colab-badge.svg\" alt=\"Open In Colab\"/>\n",
    "</a>\n",
    "\n",
    "# Chapter 6 – Exploring the Coordinator, Worker, and Delegator Approach\n",
    "---\n",
    "\n",
    "Install dependencies"
   ]
  },
  {
   "cell_type": "code",
   "execution_count": null,
   "metadata": {},
   "outputs": [],
   "source": [
    "!pip install crewai langchain-openai"
   ]
  },
  {
   "cell_type": "code",
   "execution_count": null,
   "metadata": {},
   "outputs": [],
   "source": [
    "import getpass\n",
    "import os\n",
    "\n",
    "api_key = getpass.getpass(prompt=\"Enter OpenAI API Key: \")\n",
    "os.environ[\"OPENAI_API_KEY\"] = api_key"
   ]
  },
  {
   "cell_type": "markdown",
   "metadata": {},
   "source": [
    "### Role-based agents\n",
    "\n",
    "Role-based agents within the CWD (Coordinator, Worker, and Delegator) model for a travel planner.\n",
    "\n",
    "# CrewAI implementation\n",
    "---"
   ]
  },
  {
   "cell_type": "code",
   "execution_count": null,
   "metadata": {},
   "outputs": [],
   "source": [
    "from crewai import Agent, Task, Crew, Process\n",
    "from crewai.tools import tool\n",
    "from langchain_openai import ChatOpenAI\n",
    "from IPython.display import display, Markdown, HTML\n",
    "\n",
    "llm = ChatOpenAI(model=\"gpt-4o\")"
   ]
  },
  {
   "cell_type": "markdown",
   "metadata": {},
   "source": [
    "<div class=\"alert alert-block alert-info\"> \n",
    "<b>NOTE:</b> While we will use gpt-4o throughout this notebook, you can also use different LLMs for each of the agents. This is usually a recommended approach. For example for less complex tasks such as crafting a plan to book a travel itinerary, one could use a smaller model such as gpt-4o-mini, and for more complex tasks such as comparing travel options and reasoning a larger model is appropriate.\n",
    "</div>\n"
   ]
  },
  {
   "cell_type": "markdown",
   "metadata": {},
   "source": [
    "## Create the tools"
   ]
  },
  {
   "cell_type": "code",
   "execution_count": null,
   "metadata": {},
   "outputs": [],
   "source": [
    "@tool(\"Search for available flights between cities\")\n",
    "def search_flights(origin: str, destination: str, date: str) -> dict:\n",
    "    \"\"\"\n",
    "    Search for available flights between cities.\n",
    "    \n",
    "    Args:\n",
    "        origin: Departure city\n",
    "        destination: Arrival city\n",
    "    \n",
    "    Returns:\n",
    "        Dictionary containing flight options and prices\n",
    "    \"\"\"\n",
    "    # Emulate JSON data from an API\n",
    "    return {\n",
    "        \"flights\": [\n",
    "            {\"airline\": \"Air France\", \"price\": 850, \"departure\": \"New York (JFK)\", \"arrival\": \"Paris (CDG)\", \"duration\": \"7h 30m\", \"departure_time\": \"10:30 AM\", \"arrival_time\": \"11:00 PM\"},\n",
    "            {\"airline\": \"Delta Airlines\", \"price\": 780, \"departure\": \"New York (JFK)\", \"arrival\": \"Paris (CDG)\", \"duration\": \"7h 45m\", \"departure_time\": \"5:30 PM\", \"arrival_time\": \"6:15 AM\"},\n",
    "            {\"airline\": \"United Airlines\", \"price\": 920, \"departure\": \"New York (EWR)\", \"arrival\": \"Paris (CDG)\", \"duration\": \"7h 55m\", \"departure_time\": \"8:45 PM\", \"arrival_time\": \"9:40 AM\"}\n",
    "        ]}             \n",
    "\n",
    "@tool(\"Find available hotels in a location\") \n",
    "def find_hotels(location: str, check_in: str, check_out: str) -> dict:\n",
    "    \"\"\"\n",
    "    Search for available hotels in a location.\n",
    "    \n",
    "    Args:\n",
    "        location: City name\n",
    "        check_in: Check-in date (YYYY-MM-DD)\n",
    "        check_out: Check-out date (YYYY-MM-DD)\n",
    "    \n",
    "    Returns:\n",
    "        Dictionary containing hotel options and prices\n",
    "    \"\"\"\n",
    "    # Emulate JSON data from an API\n",
    "    return {\n",
    "        \"hotels\": [\n",
    "            {\"name\": \"Paris Marriott Champs Elysees\", \"price\": 450, \"check_in_date\": check_in, \"check_out_date\": check_out, \"rating\": 4.5, \"location\": \"Central Paris\", \"amenities\": [\"Spa\", \"Restaurant\", \"Room Service\"]},\n",
    "            {\"name\": \"Citadines Saint-Germain-des-Prés\", \"price\": 320, \"check_in_date\": check_in, \"check_out_date\": check_out, \"rating\": 4.2, \"location\": \"Saint-Germain\", \"amenities\": [\"Kitchenette\", \"Laundry\", \"Wifi\"]},\n",
    "            {\"name\": \"Ibis Paris Eiffel Tower\", \"price\": 380, \"check_in_date\": check_in, \"check_out_date\": check_out, \"rating\": 4.0, \"location\": \"Near Eiffel Tower\", \"amenities\": [\"Restaurant\", \"Bar\", \"Wifi\"]}\n",
    "        ]}\n",
    "\n",
    "@tool(\"Find available activities in a location\")\n",
    "def find_activities(location: str, date: str, preferences: str) -> dict:\n",
    "    \"\"\"\n",
    "    Find available activities in a location.\n",
    "    \n",
    "    Args:\n",
    "        location: City name\n",
    "        date: Activity date (YYYY-MM-DD)\n",
    "        preferences: Activity preferences/requirements\n",
    "        \n",
    "    Returns:\n",
    "        Dictionary containing activity options\n",
    "    \"\"\"\n",
    "    # Implement actual activity search logic here\n",
    "    return {\n",
    "        \"activities\": [\n",
    "            {\"name\": \"Eiffel Tower Skip-the-Line\", \"description\": \"Priority access to the Eiffel Tower with guided tour of 1st and 2nd floors\", \"price\": 65, \"duration\": \"2 hours\", \"start_time\": \"10:00 AM\", \"meeting_point\": \"Eiffel Tower South Entrance\"},\n",
    "            {\"name\": \"Louvre Museum Guided Tour\", \"description\": \"Expert-guided tour of the Louvre's masterpieces including Mona Lisa\", \"price\": 85, \"duration\": \"3 hours\", \"start_time\": \"2:00 PM\", \"meeting_point\": \"Louvre Pyramid\"},\n",
    "            {\"name\": \"Seine River Dinner Cruise\", \"description\": \"Evening cruise along the Seine with 3-course French dinner and wine\", \"price\": 120, \"duration\": \"2.5 hours\", \"start_time\": \"7:30 PM\", \"meeting_point\": \"Port de la Bourdonnais\"}\n",
    "        ]}\n",
    "\n",
    "@tool(\"Find local transportation options\")\n",
    "def find_transportation(location: str, origin: str, destination: str) -> dict:\n",
    "    \"\"\"\n",
    "    Find local transportation options between locations.\n",
    "    \n",
    "    Args:\n",
    "        location: City name\n",
    "        origin: Starting point (e.g., \"Airport\", \"Hotel\", \"Eiffel Tower\")\n",
    "        destination: End point (e.g., \"City Center\", \"Museum\", \"Restaurant\")\n",
    "    \n",
    "    Returns:\n",
    "        Dictionary containing transportation options\n",
    "    \"\"\"\n",
    "    # Return a simple JSON with transportation options\n",
    "    return {\n",
    "        \"options\": [\n",
    "            { \"type\": \"Metro\", \"cost\": 1.90, \"duration\": \"25 minutes\", \"frequency\": \"Every 5 minutes\", \"route\": \"Line 1 to Châtelet, then Line 4 to destination\", \"pros\": \"Fast, avoids traffic\", \"cons\": \"Can be crowded during peak hours\"},\n",
    "            { \"type\": \"Taxi\", \"cost\": 22.50, \"duration\": \"20 minutes\", \"frequency\": \"On demand\", \"route\": \"Direct\", \"pros\": \"Door-to-door service, comfortable\", \"cons\": \"More expensive, subject to traffic\"},\n",
    "            { \"type\": \"Bus\", \"cost\": 1.90, \"duration\": \"35 minutes\", \"frequency\": \"Every 10 minutes\", \"route\": \"Route 42 direct to destination\", \"pros\": \"Scenic route, above ground\", \"cons\": \"Slower than metro, subject to traffic\"},\n",
    "            { \"type\": \"Walking\", \"cost\": 0, \"duration\": \"45 minutes\", \"frequency\": \"Anytime\", \"route\": \"Through city center\", \"pros\": \"Free, healthy, scenic\", \"cons\": \"Takes longer, weather dependent\"}\n",
    "        ],\n",
    "        \"passes\": [\n",
    "            { \"name\": \"Day Pass\", \"cost\": 7.50, \"valid_for\": \"Unlimited travel for 24 hours\", \"recommended_if\": \"Making more than 4 trips in a day\" },\n",
    "            { \"name\": \"Paris Visite\",  \"cost\": 12.00, \"valid_for\": \"Unlimited travel for 1 day, includes discounts to attractions\", \"recommended_if\": \"Planning to visit multiple tourist sites\" }\n",
    "        ]\n",
    "    }"
   ]
  },
  {
   "cell_type": "markdown",
   "metadata": {},
   "source": [
    "## Create the Agents\n",
    "\n",
    "### Core Travel Workers"
   ]
  },
  {
   "cell_type": "code",
   "execution_count": null,
   "metadata": {},
   "outputs": [],
   "source": [
    "flight_booking_worker = Agent(\n",
    "    role=\"Flight Booking Specialist\",\n",
    "    goal=\"Find and book the optimal flights for the traveler\",\n",
    "    backstory=\"\"\"You are an experienced flight booking specialist with extensive knowledge of airlines, \n",
    "    routes, and pricing strategies. You excel at finding the best flight options balancing cost, \n",
    "    convenience, and comfort according to the traveler's preferences.\"\"\",\n",
    "    verbose=True,\n",
    "    allow_delegation=False,\n",
    "    tools=[search_flights],\n",
    "    llm=llm,\n",
    "    max_iter=1,\n",
    "    max_retry_limit=3\n",
    ")\n",
    "\n",
    "hotel_booking_worker = Agent(\n",
    "    role=\"Hotel Accommodation Expert\",\n",
    "    goal=\"Secure the ideal hotel accommodations for the traveler\",\n",
    "    backstory=\"\"\"You have worked in the hospitality industry for over a decade and have deep knowledge \n",
    "    of hotel chains, boutique accommodations, and local lodging options worldwide. You're skilled at \n",
    "    matching travelers with accommodations that meet their budget, location preferences, and amenity requirements.\"\"\",\n",
    "    verbose=True,\n",
    "    allow_delegation=False,\n",
    "    tools=[find_hotels],\n",
    "    llm=llm,\n",
    "    max_iter=1,\n",
    "    max_retry_limit=3\n",
    ")\n",
    "\n",
    "activity_planning_worker = Agent(\n",
    "    role=\"Activities and Excursions Planner\",\n",
    "    goal=\"Curate personalized activities and experiences for the traveler\",\n",
    "    backstory=\"\"\"You're a well-traveled activities coordinator with insider knowledge of attractions, \n",
    "    tours, and unique experiences across numerous destinations. You're passionate about creating \n",
    "    memorable itineraries that align with travelers' interests, whether they seek adventure, culture, \n",
    "    relaxation, or culinary experiences.\"\"\",\n",
    "    verbose=True,\n",
    "    allow_delegation=False,\n",
    "    tools=[find_activities],\n",
    "    llm=llm,\n",
    "    max_iter=1,\n",
    "    max_retry_limit=3\n",
    ")\n",
    "\n",
    "transportation_worker = Agent(\n",
    "    role=\"Local Transportation Coordinator\",\n",
    "    goal=\"Arrange efficient and convenient local transportation\",\n",
    "    backstory=\"\"\"You specialize in local transportation logistics across global destinations. Your expertise \n",
    "    covers public transit systems, private transfers, rental services, and navigation, ensuring travelers \n",
    "    can move smoothly between destinations and activities.\"\"\",\n",
    "    verbose=True,\n",
    "    allow_delegation=False,\n",
    "    tools=[find_transportation],\n",
    "    llm=llm,\n",
    "    max_iter=1,\n",
    "    max_retry_limit=3\n",
    ")"
   ]
  },
  {
   "cell_type": "markdown",
   "metadata": {},
   "source": [
    "## Define tasks for all the CWD agents\n",
    "\n",
    "### Tasks for the workers"
   ]
  },
  {
   "cell_type": "code",
   "execution_count": null,
   "metadata": {},
   "outputs": [],
   "source": [
    "flight_search_task = Task(\n",
    "    description=\"\"\"\n",
    "    Use the search_flights tool to find flight options from origin to destination.\n",
    "    Review the returned JSON data and recommend the best option based on the traveler's priorities, if any.\n",
    "    \n",
    "    Compare the available options and recommended choice best meets their needs.\n",
    "    \"\"\",\n",
    "    agent=flight_booking_worker,\n",
    "    expected_output=\"A flight itinerary for booking based on the traveler's preferences.\"\n",
    ")\n",
    "\n",
    "hotel_search_task = Task(\n",
    "    description=\"\"\"\n",
    "    Use the find_hotels tool to search for accommodations in the destination.\n",
    "    Review the returned JSON data and recommend the best option considering budget.\n",
    "    \n",
    "    Explain why your recommended choice is the best match for this traveler.\n",
    "    \"\"\",\n",
    "    agent=hotel_booking_worker,\n",
    "    expected_output=\"A hotel recommendation based on the traveler's preferences and budget.\"\n",
    ")\n",
    "\n",
    "activity_planning_task = Task(\n",
    "    description=\"\"\"\n",
    "    Use the find_activities tool to identify options in the destination for each day of the of the entire trip duration.\n",
    "    The traveler's interests are: {activity_interests} with a {activity_pace} pace preference.\n",
    "    \n",
    "    Create a day-by-day plan using the returned JSON data, ensuring activities flow logically and match the traveler's interests.\n",
    "    \"\"\",\n",
    "    agent=activity_planning_worker,\n",
    "    expected_output=\"A day-by-day activity plan that matches the traveler's interests and pace preferences.\"\n",
    ")\n",
    "\n",
    "transportation_planning_task = Task(\n",
    "    description=\"\"\"\n",
    "    Use the find_transportation tool to identify options at the destination for:\n",
    "    1. Airport to hotel transfer\n",
    "    2. Transportation between daily activities\n",
    "    3. Hotel to airport transfer\n",
    "    \n",
    "    Consider the traveler's preferences where possible.\n",
    "    \n",
    "    Based on the returned JSON data, recommend the best transportation options for each segment of their trip.\n",
    "    \"\"\",\n",
    "    agent=transportation_worker,\n",
    "    expected_output=\"A transportation plan covering all necessary transfers during the trip.\"\n",
    ")"
   ]
  },
  {
   "cell_type": "markdown",
   "metadata": {},
   "source": [
    "### Defining the Coordinator Agent & Task\n",
    "\n",
    "The `coordinate_request` function will use our Coordinator agent with a task to consume customer requests and craft a \"plan\" for the delegator agent later."
   ]
  },
  {
   "cell_type": "code",
   "execution_count": null,
   "metadata": {},
   "outputs": [],
   "source": [
    "\n",
    "coordinator_agent = Agent(\n",
    "    role=\"Coordinator Agent\",\n",
    "    goal=\"Ensure cohesive travel plans and maintain high customer satisfaction\",\n",
    "    backstory=\"\"\"A seasoned travel industry veteran with 15 years of experience in luxury travel planning \n",
    "    and project management. Known for orchestrating seamless multi-destination trips for high-profile clients \n",
    "    and managing complex itineraries across different time zones and cultures. \n",
    "    \"\"\",\n",
    "    verbose=False,\n",
    "    llm=llm,\n",
    "    max_iter=1,\n",
    "    max_retry_limit=3\n",
    ")"
   ]
  },
  {
   "cell_type": "code",
   "execution_count": null,
   "metadata": {},
   "outputs": [],
   "source": [
    "from textwrap import dedent\n",
    "\n",
    "def coordinate_request(traveler_request):\n",
    "\n",
    "    coordinator_to_delegator_task = Task(\n",
    "        description=dedent(f\"\"\"\\\n",
    "        As the Coordinator Agent, you've received a travel planning request.\n",
    "        \n",
    "        Traveler request:\n",
    "        {traveler_request}\n",
    "        \n",
    "        Create a clear, concise travel planning steps for this trip. Only plan\n",
    "        for the things requested by the traveler, DO NOT assume or add things not requested. Provide a \n",
    "        short overview, followed by the steps required for flight booking, hotel booking, activities,\n",
    "        and local transportation.\n",
    "        \n",
    "        Your output should be a step-by-step plan along with preference details that the Delegator Agent \n",
    "        can use to effectively assign tasks to the specialist workers. Do not provide any summary or mention \n",
    "        \"Delegator\" or \"coordinator\".\n",
    "        \"\"\"),\n",
    "        expected_output=\"A detailed step-by-step travel plan for the delegator agent\",\n",
    "        agent=coordinator_agent\n",
    "    )\n",
    "\n",
    "    # Execute the coordinator's initial planning task\n",
    "    coordinator_crew = Crew(\n",
    "        agents=[coordinator_agent],\n",
    "        tasks=[coordinator_to_delegator_task],\n",
    "        verbose=False, # True if you want to see detailed execution\n",
    "        process=Process.sequential\n",
    "    )\n",
    "    coordinator_plan = coordinator_crew.kickoff(inputs={'traveler_request': traveler_request})\n",
    "    print(\"\\n=== Coordinator Planning Complete ===\\n\")    \n",
    "    return coordinator_plan\n"
   ]
  },
  {
   "cell_type": "markdown",
   "metadata": {},
   "source": [
    "Test to see if our coordinator agent is creating a detailed plan for the delegator agent."
   ]
  },
  {
   "cell_type": "code",
   "execution_count": null,
   "metadata": {},
   "outputs": [],
   "source": [
    "request=\"\"\"Traveler Alex Johnson is planning to travel to Paris from New York for his anniversary for 7 days and 2 people. \n",
    "- His total budget is about $8000, with hotel budget being $300.\n",
    "- Direct flights preferred, morning departure if possible.\n",
    "- Hotel in Paris under $400 with wifi preferred. Check in at 5/7/2025 and checkout at 5/14/2025\n",
    "- Activities in paris should be moderate pace with some relaxation time built in\n",
    "- Mix of walking and public transit, with occasional taxis for evening outings\n",
    "\"\"\"\n",
    "plan_for_delegator = coordinate_request(request)"
   ]
  },
  {
   "cell_type": "markdown",
   "metadata": {},
   "source": [
    "View the plan crafted by the coordinator agent."
   ]
  },
  {
   "cell_type": "code",
   "execution_count": null,
   "metadata": {},
   "outputs": [],
   "source": [
    "display(HTML('<div style=\"background-color: #000; padding: 10px; border-radius: 5px; border: 1px solid #d3d3d3;\"></hr><h2>🔽 &nbsp; Full step-by-step trip plan</h2></hr></div>'))\n",
    "display(Markdown(plan_for_delegator.raw))"
   ]
  },
  {
   "cell_type": "markdown",
   "metadata": {},
   "source": [
    "### Defining the Delegator Agent & Task\n",
    "\n",
    "The `delegate_plan` function will use the travel plan crafted by the coordinator agent and subsequently delegate tasks to worker agents for each task (such book flight, book hotel etc.). It will also subsequently process the outputs of each worker agent and then craft a full itinerary for the traveler. Here, we use the `plan` generated by the `coordinator_agent` to craft a `goal` for the `delegator_agent`. \n",
    "\n",
    "We will use CrewAI's `manager_agent` feature to implement Delegator, which will manage the worker agents to search flights, search hotels, plan activities and look for local transportation using the respective worker agent."
   ]
  },
  {
   "cell_type": "code",
   "execution_count": null,
   "metadata": {},
   "outputs": [],
   "source": [
    "def delegate_plan(plan):\n",
    "    delegator_goal=f\"\"\"\n",
    "        Effectively distribute travel planning tasks to specialized workers to create a detailed booking itinerary\n",
    "        for the plan below:\n",
    "        \n",
    "        {plan}\n",
    "        \n",
    "        Based on this plan, your goal is to create a detailed booking itinerary and trip plan for the user that includes\n",
    "        flight booking & cost recommendation, hotels and hotel cost, activities and local transportation options\n",
    "        and recommendations.\n",
    "        \"\"\"\n",
    "\n",
    "    delegator_agent = Agent(\n",
    "        role=\"Travel Planning Delegator\",\n",
    "        goal=delegator_goal,\n",
    "        backstory=\"\"\"You are an expert project manager with a talent for breaking down travel planning into \n",
    "        component tasks and assigning them to the right specialists. You understand each worker's strengths \n",
    "        and ensure they have the information needed to excel. You track progress, resolve bottlenecks, and \n",
    "        ensure all elements of the trip are properly addressed.\"\"\",    \n",
    "        verbose=True,\n",
    "        allow_delegation=True,\n",
    "        llm=llm\n",
    "    )\n",
    "    # Execute the delegator's task assignment\n",
    "    delegator_crew = Crew(\n",
    "        agents=[flight_booking_worker, hotel_booking_worker, transportation_worker, activity_planning_worker],\n",
    "        tasks=[flight_search_task, hotel_search_task, transportation_planning_task, activity_planning_task ],\n",
    "        verbose=False,\n",
    "        manager_agent=delegator_agent,\n",
    "        process=Process.hierarchical,\n",
    "        planning=True,        \n",
    "        full_output=True\n",
    "    )\n",
    "    full_itinerary = delegator_crew.kickoff()\n",
    "    print(\"\\n=== Delegator Task Complete ===\\n\")\n",
    "    return full_itinerary"
   ]
  },
  {
   "cell_type": "markdown",
   "metadata": {},
   "source": [
    "<div class=\"alert alert-block alert-info\"> \n",
    "<b>NOTE:</b> When you execute the following code cell you will see the full verbose execution of the Multi-agent delegator agent. You may also notice that at certain points the delegator failed to invoke the tool. This happens in case the LLM was unable to capture the required variables for the tool, at which point the CrewAI framework will retry the call by re-crafting it's inputs until it gets a proper tool call (often with smaller or cheaper LLMs). This is unfortunately one of the drawbacks of generic implementations, however with more custom implementations with CrewAI, you can steer the model to generate appropriate tool calls everytime given all the information is present.<br/>\n",
    "\n",
    "Also note that the max_iter and max_retries_limit is set to 1 and 3 which means the agent will only be invoked once and will retry 3 times if there are errors. This means that the Agent may not come to a perfect answer with just 1 try, you may try to increast max_iter on the agents to experiment with the type of answers it produces.\n",
    "</div>\n"
   ]
  },
  {
   "cell_type": "code",
   "execution_count": null,
   "metadata": {},
   "outputs": [],
   "source": [
    "itinerary = delegate_plan(plan_for_delegator.raw)"
   ]
  },
  {
   "cell_type": "code",
   "execution_count": null,
   "metadata": {},
   "outputs": [],
   "source": [
    "display(HTML('<div style=\"background-color: #000; padding: 10px; border-radius: 5px; border: 1px solid #d3d3d3;\"></hr><h2>🔽 &nbsp; Full travel plan – Report</h2></hr></div>'))\n",
    "\n",
    "for task in itinerary.tasks_output:      \n",
    "    display(Markdown(task.raw))"
   ]
  }
 ],
 "metadata": {
  "language_info": {
   "name": "python"
  }
 },
 "nbformat": 4,
 "nbformat_minor": 2
}
